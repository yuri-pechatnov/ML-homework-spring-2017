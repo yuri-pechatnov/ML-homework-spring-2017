{
 "cells": [
  {
   "cell_type": "markdown",
   "metadata": {},
   "source": [
    "# 4.1 Наивный байес и центроидный классификатор\n",
    "Покажите, что если в наивном байесовском классификаторе классы имеют одинаковые априорные вероятности, а плотность распределения признаков в каждом классе имеет вид \n",
    "\n",
    "$P (x^{(k)}|y) = {1 \\over {\\sqrt {2 \\pi \\sigma ^ 2} }} e ^ {- {{(x^{(k)} - \\mu _{yk}) ^ 2} \\over {2 \\sigma ^ 2}}}$\n",
    "\n",
    "$x^{(k)}, k = 1...n $ - \n",
    "признаки объекта $x$ классификация сводится к отнесению объекта $x$ к классу $y$, центр которого $\\mu _ y$ ближе всего к $x$\n",
    "\n",
    "Наивный байесовский классификатор работает так:\n",
    "\n",
    "$a(x) = argmax _y P(y) \\prod _ {k = 1} ^ n P(x^{(k)}|y) = ~~$ \n",
    "[ в нашем случае, так как \"классы имеют одинаковые априорные вероятности\"] <br>\n",
    "$ = argmax _y \\prod _ {k = 1} ^ n P(x^{(k)}|y) = ~~$ \n",
    "[ подставляем вероятности ] <br>\n",
    "$ = argmax _y \\prod _ {k = 1} ^ n {1 \\over {\\sqrt {2 \\pi \\sigma ^ 2} }} e ^ {- {{(x^{(k)} - \\mu _{yk}) ^ 2} \\over {2 \\sigma ^ 2}}} = ~~$\n",
    "[ убираем лишнее ] <br>\n",
    "$ = argmax _y \\prod _ {k = 1} ^ n  e ^ {- {{(x^{(k)} - \\mu _{yk}) ^ 2} \\over {2 \\sigma ^ 2}}} = $ <br>\n",
    "$ = argmax _y \\sum _ {k = 1} ^ n  {- {{(x^{(k)} - \\mu _{yk}) ^ 2} \\over {2 \\sigma ^ 2}}} = $ <br>\n",
    "$ = argmin _y \\sum _ {k = 1} ^ n  {{{(x^{(k)} - \\mu _{yk}) ^ 2} \\over {2 \\sigma ^ 2}}} = $ <br>\n",
    "$ = argmin _y \\sum _ {k = 1} ^ n  {{{(x^{(k)} - \\mu _{yk}) ^ 2}}} = $ <br>\n",
    "$ = argmin _y {\\left|x - \\mu _ k \\right|} ^ 2.$  Это и есть то, что требовалось показать.\n",
    "\n",
    "\n"
   ]
  },
  {
   "cell_type": "markdown",
   "metadata": {},
   "source": []
  },
  {
   "cell_type": "markdown",
   "metadata": {},
   "source": []
  }
 ],
 "metadata": {
  "kernelspec": {
   "display_name": "Python 3",
   "language": "python",
   "name": "python3"
  },
  "language_info": {
   "codemirror_mode": {
    "name": "ipython",
    "version": 3
   },
   "file_extension": ".py",
   "mimetype": "text/x-python",
   "name": "python",
   "nbconvert_exporter": "python",
   "pygments_lexer": "ipython3",
   "version": "3.5.2"
  }
 },
 "nbformat": 4,
 "nbformat_minor": 1
}
