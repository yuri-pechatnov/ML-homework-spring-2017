{
 "cells": [
  {
   "cell_type": "code",
   "execution_count": 39,
   "metadata": {
    "collapsed": false
   },
   "outputs": [],
   "source": [
    "import numpy as np\n",
    "import scipy.stats as stat\n",
    "\n",
    "from matplotlib.colors import ListedColormap\n",
    "import matplotlib.pyplot as plt\n",
    "from sklearn import cross_validation, datasets, metrics, neighbors \n",
    "from sklearn.naive_bayes import MultinomialNB, GaussianNB, BernoulliNB\n",
    "from sklearn.model_selection import cross_val_score\n",
    "import pandas as pd"
   ]
  },
  {
   "cell_type": "markdown",
   "metadata": {
    "collapsed": true
   },
   "source": [
    "### Посмотрел датасеты"
   ]
  },
  {
   "cell_type": "code",
   "execution_count": null,
   "metadata": {
    "collapsed": true
   },
   "outputs": [],
   "source": [
    "cancer = datasets.load_breast_cancer()\n"
   ]
  },
  {
   "cell_type": "markdown",
   "metadata": {},
   "source": [
    "## Генерируем выборку"
   ]
  },
  {
   "cell_type": "code",
   "execution_count": 18,
   "metadata": {
    "collapsed": false
   },
   "outputs": [
    {
     "data": {
      "text/plain": [
       "(array(['mean radius', 'mean texture', 'mean perimeter', 'mean area',\n",
       "        'mean smoothness', 'mean compactness', 'mean concavity',\n",
       "        'mean concave points', 'mean symmetry', 'mean fractal dimension',\n",
       "        'radius error', 'texture error', 'perimeter error', 'area error',\n",
       "        'smoothness error', 'compactness error', 'concavity error',\n",
       "        'concave points error', 'symmetry error', 'fractal dimension error',\n",
       "        'worst radius', 'worst texture', 'worst perimeter', 'worst area',\n",
       "        'worst smoothness', 'worst compactness', 'worst concavity',\n",
       "        'worst concave points', 'worst symmetry', 'worst fractal dimension'], \n",
       "       dtype='<U23'),\n",
       " array([[  1.79900000e+01,   1.03800000e+01,   1.22800000e+02,\n",
       "           1.00100000e+03,   1.18400000e-01,   2.77600000e-01,\n",
       "           3.00100000e-01,   1.47100000e-01,   2.41900000e-01,\n",
       "           7.87100000e-02,   1.09500000e+00,   9.05300000e-01,\n",
       "           8.58900000e+00,   1.53400000e+02,   6.39900000e-03,\n",
       "           4.90400000e-02,   5.37300000e-02,   1.58700000e-02,\n",
       "           3.00300000e-02,   6.19300000e-03,   2.53800000e+01,\n",
       "           1.73300000e+01,   1.84600000e+02,   2.01900000e+03,\n",
       "           1.62200000e-01,   6.65600000e-01,   7.11900000e-01,\n",
       "           2.65400000e-01,   4.60100000e-01,   1.18900000e-01],\n",
       "        [  2.05700000e+01,   1.77700000e+01,   1.32900000e+02,\n",
       "           1.32600000e+03,   8.47400000e-02,   7.86400000e-02,\n",
       "           8.69000000e-02,   7.01700000e-02,   1.81200000e-01,\n",
       "           5.66700000e-02,   5.43500000e-01,   7.33900000e-01,\n",
       "           3.39800000e+00,   7.40800000e+01,   5.22500000e-03,\n",
       "           1.30800000e-02,   1.86000000e-02,   1.34000000e-02,\n",
       "           1.38900000e-02,   3.53200000e-03,   2.49900000e+01,\n",
       "           2.34100000e+01,   1.58800000e+02,   1.95600000e+03,\n",
       "           1.23800000e-01,   1.86600000e-01,   2.41600000e-01,\n",
       "           1.86000000e-01,   2.75000000e-01,   8.90200000e-02],\n",
       "        [  1.96900000e+01,   2.12500000e+01,   1.30000000e+02,\n",
       "           1.20300000e+03,   1.09600000e-01,   1.59900000e-01,\n",
       "           1.97400000e-01,   1.27900000e-01,   2.06900000e-01,\n",
       "           5.99900000e-02,   7.45600000e-01,   7.86900000e-01,\n",
       "           4.58500000e+00,   9.40300000e+01,   6.15000000e-03,\n",
       "           4.00600000e-02,   3.83200000e-02,   2.05800000e-02,\n",
       "           2.25000000e-02,   4.57100000e-03,   2.35700000e+01,\n",
       "           2.55300000e+01,   1.52500000e+02,   1.70900000e+03,\n",
       "           1.44400000e-01,   4.24500000e-01,   4.50400000e-01,\n",
       "           2.43000000e-01,   3.61300000e-01,   8.75800000e-02]]),\n",
       " array(['malignant', 'benign'], \n",
       "       dtype='<U9'),\n",
       " array([0, 0, 0]))"
      ]
     },
     "execution_count": 18,
     "metadata": {},
     "output_type": "execute_result"
    }
   ],
   "source": [
    "# breast_cancer\n",
    "cancer = datasets.load_breast_cancer()\n",
    "diabetes.feature_names, diabetes.data[:3], diabetes.target_names, diabetes.target[:3]"
   ]
  },
  {
   "cell_type": "code",
   "execution_count": 22,
   "metadata": {
    "collapsed": false
   },
   "outputs": [
    {
     "data": {
      "text/plain": [
       "(array([  0.,   0.,   5.,  13.,   9.,   1.,   0.,   0.,   0.,   0.,  13.,\n",
       "         15.,  10.,  15.,   5.,   0.,   0.,   3.,  15.,   2.,   0.,  11.,\n",
       "          8.,   0.,   0.,   4.,  12.,   0.,   0.,   8.,   8.,   0.,   0.,\n",
       "          5.,   8.,   0.,   0.,   9.,   8.,   0.,   0.,   4.,  11.,   0.,\n",
       "          1.,  12.,   7.,   0.,   0.,   2.,  14.,   5.,  10.,  12.,   0.,\n",
       "          0.,   0.,   0.,   6.,  13.,  10.,   0.,   0.,   0.]),\n",
       " array([[  0.,   0.,   5.,  13.,   9.,   1.,   0.,   0.],\n",
       "        [  0.,   0.,  13.,  15.,  10.,  15.,   5.,   0.],\n",
       "        [  0.,   3.,  15.,   2.,   0.,  11.,   8.,   0.],\n",
       "        [  0.,   4.,  12.,   0.,   0.,   8.,   8.,   0.],\n",
       "        [  0.,   5.,   8.,   0.,   0.,   9.,   8.,   0.],\n",
       "        [  0.,   4.,  11.,   0.,   1.,  12.,   7.,   0.],\n",
       "        [  0.,   2.,  14.,   5.,  10.,  12.,   0.,   0.],\n",
       "        [  0.,   0.,   6.,  13.,  10.,   0.,   0.,   0.]]),\n",
       " 0)"
      ]
     },
     "execution_count": 22,
     "metadata": {},
     "output_type": "execute_result"
    }
   ],
   "source": [
    "# digits\n",
    "digits = datasets.load_digits()\n",
    "digits.data[0], digits.images[0], digits.target[0]"
   ]
  },
  {
   "cell_type": "markdown",
   "metadata": {},
   "source": [
    "Очень много признаков и мало, что понятно, а изучать, что это такое лежит в датасетах, кажется не то, чего от нас хотят. Попробуем научить машину \"понимать\", что это такое, и делать так же."
   ]
  },
  {
   "cell_type": "code",
   "execution_count": 61,
   "metadata": {
    "collapsed": false
   },
   "outputs": [
    {
     "name": "stdout",
     "output_type": "stream",
     "text": [
      "1. На датасете breast_cancer получилось максимальное качество классификации 0.936749280609  при использовании классификатора <class 'sklearn.naive_bayes.GaussianNB'>\n",
      "2. На датасете digits получилось максимальное качество классификации 0.870877148974  при использовании классификатора <class 'sklearn.naive_bayes.MultinomialNB'>\n"
     ]
    },
    {
     "data": {
      "text/html": [
       "<div>\n",
       "<table border=\"1\" class=\"dataframe\">\n",
       "  <thead>\n",
       "    <tr style=\"text-align: right;\">\n",
       "      <th></th>\n",
       "      <th>Digits</th>\n",
       "      <th>Cancer</th>\n",
       "    </tr>\n",
       "  </thead>\n",
       "  <tbody>\n",
       "    <tr>\n",
       "      <th>&lt;class 'sklearn.naive_bayes.BernoulliNB'&gt;</th>\n",
       "      <td>0.825824</td>\n",
       "      <td>0.627420</td>\n",
       "    </tr>\n",
       "    <tr>\n",
       "      <th>&lt;class 'sklearn.naive_bayes.GaussianNB'&gt;</th>\n",
       "      <td>0.818600</td>\n",
       "      <td>0.936749</td>\n",
       "    </tr>\n",
       "    <tr>\n",
       "      <th>&lt;class 'sklearn.naive_bayes.MultinomialNB'&gt;</th>\n",
       "      <td>0.870877</td>\n",
       "      <td>0.894579</td>\n",
       "    </tr>\n",
       "  </tbody>\n",
       "</table>\n",
       "</div>"
      ],
      "text/plain": [
       "                                               Digits    Cancer\n",
       "<class 'sklearn.naive_bayes.BernoulliNB'>    0.825824  0.627420\n",
       "<class 'sklearn.naive_bayes.GaussianNB'>     0.818600  0.936749\n",
       "<class 'sklearn.naive_bayes.MultinomialNB'>  0.870877  0.894579"
      ]
     },
     "execution_count": 61,
     "metadata": {},
     "output_type": "execute_result"
    }
   ],
   "source": [
    "NBS = [BernoulliNB, GaussianNB, MultinomialNB]\n",
    "datas = [datasets.load_digits(), datasets.load_breast_cancer()]\n",
    "\n",
    "result = np.ndarray(shape=(3, 2))\n",
    "\n",
    "for i, NB in enumerate(NBS):\n",
    "    for j, dataset in enumerate(datas):\n",
    "        estimator = NB()\n",
    "        X = dataset.data\n",
    "        y = dataset.target\n",
    "        result[i][j] = cross_val_score(estimator, X, y).mean()\n",
    "     \n",
    "result = pd.DataFrame(result)\n",
    "result.columns = [\"Digits\", \"Cancer\"]\n",
    "\n",
    "result.index = [\"Bernoulli\", \"Gaussian\", \"Multinommial\"]\n",
    "\n",
    "result.index = [str(NB) for NB in NBS]\n",
    "\n",
    "\n",
    "print(\"1. На датасете breast_cancer получилось максимальное качество классификации\", result['Cancer'].max(), \n",
    "      \" при использовании классификатора\", result['Cancer'].argmax())\n",
    "\n",
    "print(\"2. На датасете digits получилось максимальное качество классификации\", result['Digits'].max(), \n",
    "      \" при использовании классификатора\", result['Digits'].argmax())\n",
    "\n",
    "result"
   ]
  },
  {
   "cell_type": "markdown",
   "metadata": {},
   "source": [
    "Теперь надо что-то добавить о полученных результатах.\n",
    "3. Верны ли утверждения?\n",
    "\n",
    "    (a) На вещественных признаках лучше всего сработал наивный байесовский классификатор с распределением Бернулли\n",
    "    \n",
    "    **Нет**, неверно, на них он сработал существенно хуже остальных классификаторов.\n",
    "    \n",
    "    (b) На вещественных признаках лучше всего сработал наивный байесовский классификатор с мультиномиальным распределением\n",
    "    \n",
    "    \n",
    "    \n",
    "    (c) Мультиномиальное распределение лучше показало себя на выборке с целыми неотрицательными значениями признаков\n",
    "    \n",
    "    (d) На вещественных признаках лучше всего сработало нормальное распределение"
   ]
  }
 ],
 "metadata": {
  "kernelspec": {
   "display_name": "Python 3",
   "language": "python",
   "name": "python3"
  },
  "language_info": {
   "codemirror_mode": {
    "name": "ipython",
    "version": 3
   },
   "file_extension": ".py",
   "mimetype": "text/x-python",
   "name": "python",
   "nbconvert_exporter": "python",
   "pygments_lexer": "ipython3",
   "version": "3.5.2"
  }
 },
 "nbformat": 4,
 "nbformat_minor": 1
}
